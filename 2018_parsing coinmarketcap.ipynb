{
 "cells": [
  {
   "cell_type": "code",
   "execution_count": 9,
   "metadata": {
    "scrolled": false
   },
   "outputs": [
    {
     "name": "stdout",
     "output_type": "stream",
     "text": [
      "Btc last price: 6476.71\n",
      "Btc 30 day price: 6398.54\n",
      "BTC  30d % change: 4725.802604869691\n",
      "\n",
      "ETH last price: 203.352\n",
      "ETH 30 day price: 209.969\n",
      "ETH  30d % change: 7235.613179750193\n",
      "\n",
      "XRP last price: 0.457725\n",
      "XRP 30 day price: 0.326053\n",
      "XRP  30d % change: 7682.003726352812\n",
      "\n",
      "BCC last price: 438.425\n",
      "BCC 30 day price: 429.227\n",
      "BCC  30d % change: 6.140754997069631\n",
      "\n",
      "EOS last price: 5.35464\n",
      "EOS 30 day price: 5.22915\n",
      "EOS  30d % change: 431.9055384744387\n"
     ]
    }
   ],
   "source": [
    "import requests\n",
    "import re\n",
    "#выгрузки пяти валют\n",
    "# BTC\n",
    "page0=requests.get('https://coinmarketcap.com/currencies/bitcoin/historical-data/?start=20130428&end=20181018').text\n",
    "btc = re.findall('(?<=<td data-format-fiat data-format-value=\")(\\d+.\\d+)', page0)\n",
    "btc_close = []\n",
    "for price in range(3, len(btc), 4):\n",
    "    btc_close.append(btc[price])\n",
    "    \n",
    "#ETH\n",
    "page1=requests.get('https://coinmarketcap.com/currencies/ethereum/historical-data/?start=20130428&end=20181018').text\n",
    "eth = re.findall('(?<=<td data-format-fiat data-format-value=\")(\\d+.\\d+)', page1)\n",
    "eth_close = []\n",
    "for price in range(3, len(eth), 4):\n",
    "    eth_close.append(eth[price])\n",
    "\n",
    "#XRP\n",
    "page2=requests.get('https://coinmarketcap.com/currencies/ripple/historical-data/?start=20130428&end=20181018').text\n",
    "xrp = re.findall('(?<=<td data-format-fiat data-format-value=\")(\\d+.\\d+)', page2)\n",
    "xrp_close = []\n",
    "for price in range(3, len(xrp), 4):\n",
    "    xrp_close.append(xrp[price])\n",
    "    \n",
    "#BCC\n",
    "page3=requests.get('https://coinmarketcap.com/currencies/bitcoin-cash/historical-data/?start=20130428&end=20181018').text\n",
    "bcc = re.findall('(?<=<td data-format-fiat data-format-value=\")(\\d+.\\d+)', page3)\n",
    "bcc_close = []\n",
    "for price in range(3, len(bcc), 4):\n",
    "    bcc_close.append(bcc[price])\n",
    "    \n",
    "#EOS\n",
    "page4=requests.get('https://coinmarketcap.com/currencies/eos/historical-data/?start=20130428&end=20181018').text\n",
    "eos = re.findall('(?<=<td data-format-fiat data-format-value=\")(\\d+.\\d+)', page4)\n",
    "eos_close = []\n",
    "for price in range(3, len(eos), 4):\n",
    "    eos_close.append(eos[price])\n",
    "\n",
    "#Вывод данных и изменений\n",
    "\n",
    "btc_change = (float(btc_close[0])/float(btc_close[-1])-1)*100\n",
    "print('Btc last price:', btc_close[0])\n",
    "print('Btc 30 day price:', btc_close[29])\n",
    "print('BTC  30d % change:', btc_change)\n",
    "print()\n",
    "eth_change = (float(eth_close[0])/float(eth_close[-1])-1)*100\n",
    "print('ETH last price:', eth_close[0])\n",
    "print('ETH 30 day price:', eth_close[29])\n",
    "print('ETH  30d % change:', eth_change)\n",
    "print()\n",
    "xrp_change = (float(xrp_close[0])/float(xrp_close[-1])-1)*100\n",
    "print('XRP last price:', xrp_close[0])\n",
    "print('XRP 30 day price:', xrp_close[29])\n",
    "print('XRP  30d % change:', xrp_change)\n",
    "print()\n",
    "bcc_change = (float(bcc_close[0])/float(bcc_close[-1])-1)*100\n",
    "print('BCC last price:', bcc_close[0])\n",
    "print('BCC 30 day price:', bcc_close[29])\n",
    "print('BCC  30d % change:', bcc_change)\n",
    "print()\n",
    "eos_change = (float(eos_close[0])/float(eos_close[-1])-1)*100\n",
    "print('EOS last price:', eos_close[0])\n",
    "print('EOS 30 day price:', eos_close[29])\n",
    "print('EOS  30d % change:', eos_change)\n",
    "    "
   ]
  },
  {
   "cell_type": "code",
   "execution_count": 21,
   "metadata": {},
   "outputs": [],
   "source": [
    "import requests\n",
    "import re\n",
    "from datetime import date\n",
    "#выгрузки пяти валют\n",
    "# BTC\n",
    "# page0=requests.get('https://coinmarketcap.com/currencies/bitcoin/historical-data/?start=20130428&end=20181018').text\n",
    "# btc = re.findall('(?<=<td data-format-fiat data-format-value=\")(\\d+.\\d+)', page0)\n",
    "# btc_close = []\n",
    "# for price in range(3, len(btc), 4):\n",
    "#     btc_close.append(btc[price])\n",
    "tradedate = []\n",
    "tradedate.append(date.today())"
   ]
  },
  {
   "cell_type": "code",
   "execution_count": 22,
   "metadata": {},
   "outputs": [
    {
     "data": {
      "text/plain": [
       "datetime.date(2018, 10, 19)"
      ]
     },
     "execution_count": 22,
     "metadata": {},
     "output_type": "execute_result"
    }
   ],
   "source": [
    "tradedate[0]"
   ]
  },
  {
   "cell_type": "code",
   "execution_count": null,
   "metadata": {},
   "outputs": [],
   "source": []
  }
 ],
 "metadata": {
  "kernelspec": {
   "display_name": "Python 3",
   "language": "python",
   "name": "python3"
  },
  "language_info": {
   "codemirror_mode": {
    "name": "ipython",
    "version": 3
   },
   "file_extension": ".py",
   "mimetype": "text/x-python",
   "name": "python",
   "nbconvert_exporter": "python",
   "pygments_lexer": "ipython3",
   "version": "3.6.8"
  }
 },
 "nbformat": 4,
 "nbformat_minor": 2
}
