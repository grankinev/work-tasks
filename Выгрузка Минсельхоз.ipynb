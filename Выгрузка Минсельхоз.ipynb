{
 "cells": [
  {
   "cell_type": "code",
   "execution_count": 1,
   "metadata": {},
   "outputs": [],
   "source": [
    "from bs4 import BeautifulSoup\n",
    "import requests\n",
    "import pandas as pd\n",
    "import numpy as np\n",
    "from selenium.webdriver.common.keys import Keys \n",
    "from selenium.webdriver import Chrome\n",
    "from selenium import webdriver\n",
    "import time\n",
    "import os\n",
    "import zipfile as zp\n",
    "import io\n",
    "import shutil\n",
    "import ctypes\n"
   ]
  },
  {
   "cell_type": "code",
   "execution_count": 2,
   "metadata": {},
   "outputs": [],
   "source": [
    "# ВВОД ССЫЛКИ\n",
    "#url = 'http://mcx.ru/ministry/departments/departament-rastenievodstva-mekhanizatsii-khimizatsii-i-zashchity-rasteniy/industry-information/info-arkhiv-347543543/'\n",
    "url = 'http://mcx.ru/ministry/departments/departament-rastenievodstva-mekhanizatsii-khimizatsii-i-zashchity-rasteniy/industry-information/info-vesennie-polevye-raboty-v-rf/'\n",
    "flag = 0"
   ]
  },
  {
   "cell_type": "code",
   "execution_count": 3,
   "metadata": {},
   "outputs": [],
   "source": [
    "try:\n",
    "    #выгрузка странички\n",
    "    driver = webdriver.Chrome()\n",
    "    driver.get(url)\n",
    "    \n",
    "    #переход в архив\n",
    "\n",
    "    driver.find_element_by_link_text('Архив').click()\n",
    "    time.sleep(2)\n",
    "    \n",
    "    #клик на кнопку для загрузки всего списка архивов\n",
    "\n",
    "    driver.find_element_by_xpath('/html/body/main/div/div/section/div/div/ul/li/button').click()\n",
    "    time.sleep(3)\n",
    "    #html = driver.page_source\n",
    "    #soup = BeautifulSoup(html,'html.parser')\n",
    "    # page = requests.get(url).text\n",
    "    # soup = BeautifulSoup(page, 'lxml')\n",
    "    \n",
    "    #получение ссылок на архивы из открытой страницы сайта\n",
    "    elems = driver.find_elements_by_xpath(\"//a[@href]\")\n",
    "except Exception as e:\n",
    "    print(e)\n",
    "    flag = 1\n"
   ]
  },
  {
   "cell_type": "code",
   "execution_count": 4,
   "metadata": {},
   "outputs": [],
   "source": [
    "# r = requests.get(url, stream=True)\n",
    "# if r.status_code == 200:\n",
    "#     with open('document.doc', 'wb') as f:\n",
    "#         for chunk in r.iter_content():\n",
    "#             f.write(chunk)\n",
    "#     f.close()\n",
    "\n",
    "# for elem in elems:\n",
    "#     if '.doc' in elem.get_attribute('href'):\n",
    "#         #побайтовая выгрузка архивов\n",
    "#         doclink = elem.get_attribute('href')\n",
    "#         response = requests.get(doclink)\n",
    "#         with open('document.doc', 'wb') as f:\n",
    "#             for chunk in response.iter_content():\n",
    "#                 f.write(chunk)\n",
    "#         f.close()\n",
    "\n",
    "#         #конвертация побайтового массива в зип-архив и распаковка получившегося архива\n",
    "#         #with zp.ZipFile(io.BytesIO(response.content)) as myzip:\n",
    "#             #myzip.extractall(\"C:\\\\Work\\Agro\")\n",
    "#         time.sleep(0.25)  "
   ]
  },
  {
   "cell_type": "code",
   "execution_count": 5,
   "metadata": {},
   "outputs": [],
   "source": [
    "#for elem in elems:\n",
    "    #if '.doc' in elem.get_attribute('a target'):\n",
    "        #print(elem.get_attribute)"
   ]
  },
  {
   "cell_type": "code",
   "execution_count": 6,
   "metadata": {},
   "outputs": [],
   "source": [
    "\n",
    "try:\n",
    "    for elem in elems:\n",
    "        if '.zip' in elem.get_attribute('href'): \n",
    "            #побайтовая выгрузка архивов\n",
    "            ziplink = elem.get_attribute('href')\n",
    "            response = requests.get(ziplink)\n",
    "            #конвертация побайтового массива в зип-архив и распаковка получившегося архива\n",
    "            with zp.ZipFile(io.BytesIO(response.content)) as myzip:\n",
    "                myzip.extractall(\"C:\\\\Work\\Agro\")\n",
    "            time.sleep(0.25)         \n",
    "except Exception as e:\n",
    "    print(e)\n",
    "    flag = 2"
   ]
  },
  {
   "cell_type": "code",
   "execution_count": 15,
   "metadata": {},
   "outputs": [],
   "source": [
    "# переименование файлов в нормальный вид И раскладывание по папкам \n",
    "# если файл с такой же датой уже есть в папке, он удаляется оттуда и заменяется новым\n",
    "\n",
    "try:\n",
    "    folder = \"C:/Work/Agro\"\n",
    "    for item in os.listdir(folder):\n",
    "        # переименование только экселей и только с длинными кривыми именами.\n",
    "        if item.endswith('.xlsx'):\n",
    "            filename = item[10:14] + '.' + item[7:9] + '.' + item[4:6] + '.xlsx'            \n",
    "            #проверка на совпадения\n",
    "            if filename in os.listdir(folder + '/Excel/'):\n",
    "                os.remove(folder + '/Excel/' + filename)\n",
    "            shutil.move(folder + '/' + item, folder + '/Excel/' + filename)\n",
    "            #os.remove(folder + '/' + item)\n",
    "        # перенос вордов в отдельную папку Reports\n",
    "        elif item.endswith('.doc'):\n",
    "            filename = item[14:18] + '.' + item[11:13] + '.' + item[8:10] + '.doc'\n",
    "            #проверка на совпадения\n",
    "            if filename in os.listdir(folder + '/Reports/'):\n",
    "                os.remove(folder + '/Reports/' + filename)\n",
    "            shutil.move(\"C:/Work/Agro/\" + item, 'C:/Work/Agro/Reports/' + filename)\n",
    "            #os.remove(\"C:/Work/Agro/Reports/\" + item)\n",
    "\n",
    "    #удаление старых файлов из рабочих папок\n",
    "    for item in os.listdir('C:/Work/Agro/Reports'):\n",
    "        if len(item) > 15:\n",
    "            os.remove('C:/Work/Agro/Reports' + '/' + item)\n",
    "\n",
    "    for item in os.listdir('C:/Work/Agro/Excel'):\n",
    "        if len(item) > 15:\n",
    "            os.remove('C:/Work/Agro/Reports' + '/' + item)\n",
    "except Exception as e:\n",
    "    print(e)\n",
    "    flag = 3\n",
    "        \n",
    "\n",
    "        "
   ]
  },
  {
   "cell_type": "code",
   "execution_count": 7,
   "metadata": {},
   "outputs": [],
   "source": [
    "\n",
    "MessageBox = ctypes.windll.user32.MessageBoxW\n",
    "if flag == 0:\n",
    "    MessageBox(None, 'Выгрузка завершена успешно', 'Выгрузка Минсельхоз', 0)\n",
    "elif flag == 1:\n",
    "    MessageBox(None, 'Ошибка в блоке запроса к сайту', 'Выгрузка Минсельхоз', 0)\n",
    "elif flag == 2:\n",
    "    MessageBox(None, 'Ошибка в блоке обработки архивов', 'Выгрузка Минсельхоз', 0)\n",
    "elif flag == 3:\n",
    "    MessageBox(None, 'Ошибка в блоке размещения файлов', 'Выгрузка Минсельхоз', 0)\n"
   ]
  },
  {
   "cell_type": "code",
   "execution_count": 10,
   "metadata": {},
   "outputs": [],
   "source": [
    "# # запрос страницы и выгрузка архивов, распаковка и сохранение в отдельную папку\n",
    "# for link in soup.find_all('a', href=True):\n",
    "#     href = link['href']\n",
    "#     if '.zip' in href:       \n",
    "#         ziplink = 'http://'+'mcx.ru' + href\n",
    "#         response = requests.get(ziplink)\n",
    "#         with zp.ZipFile(io.BytesIO(response.content)) as myzip:\n",
    "#             myzip.extractall(\"C:\\\\Work\\Agro\")\n",
    "            \n"
   ]
  },
  {
   "cell_type": "code",
   "execution_count": 11,
   "metadata": {},
   "outputs": [],
   "source": [
    "# import requests\n",
    "# import io\n",
    "# import zipfile\n",
    "# def download_extract_zip(url):\n",
    "#     \"\"\"\n",
    "#     Download a ZIP file and extract its contents in memory\n",
    "#     yields (filename, file-like object) pairs\n",
    "#     \"\"\"\n",
    "#     response = requests.get(url)\n",
    "#     with zipfile.ZipFile(io.BytesIO(response.content)) as thezip:\n",
    "#         for zipinfo in thezip.infolist():\n",
    "#             with thezip.open(zipinfo) as thefile:\n",
    "#                 yield zipinfo.filename, thefile"
   ]
  },
  {
   "cell_type": "code",
   "execution_count": 12,
   "metadata": {},
   "outputs": [],
   "source": [
    "# folder = \"C:/Work/Agro\"\n",
    "# for item in os.listdir(folder):\n",
    "#     if item.endswith('.xlsx'):\n",
    "#         filename = item[10:14] + '.' + item[7:9] + '.' + item[4:6]\n",
    "#         print(filename)"
   ]
  },
  {
   "cell_type": "code",
   "execution_count": null,
   "metadata": {},
   "outputs": [],
   "source": []
  }
 ],
 "metadata": {
  "kernelspec": {
   "display_name": "Python 3",
   "language": "python",
   "name": "python3"
  },
  "language_info": {
   "codemirror_mode": {
    "name": "ipython",
    "version": 3
   },
   "file_extension": ".py",
   "mimetype": "text/x-python",
   "name": "python",
   "nbconvert_exporter": "python",
   "pygments_lexer": "ipython3",
   "version": "3.6.8"
  }
 },
 "nbformat": 4,
 "nbformat_minor": 2
}
